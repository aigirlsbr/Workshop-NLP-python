{
 "cells": [
  {
   "cell_type": "markdown",
   "metadata": {
    "colab_type": "text",
    "id": "NkqHNOIxOF-l"
   },
   "source": [
    "# Relembrando Python"
   ]
  },
  {
   "cell_type": "markdown",
   "metadata": {
    "colab_type": "text",
    "id": "dX63-WfLOF-o"
   },
   "source": [
    "# Variaveis\n",
    "\n",
    "Podemos ter diversos tipos de variaveis em Python, as que vamos mais utilizar serão as strings e números."
   ]
  },
  {
   "cell_type": "code",
   "execution_count": null,
   "metadata": {
    "colab": {
     "base_uri": "https://localhost:8080/",
     "height": 35
    },
    "colab_type": "code",
    "executionInfo": {
     "elapsed": 680,
     "status": "ok",
     "timestamp": 1558185958119,
     "user": {
      "displayName": "Juliana Neves",
      "photoUrl": "https://lh5.googleusercontent.com/-8tAstheGj8I/AAAAAAAAAAI/AAAAAAAAzyY/-HJ0sDR0-1E/s64/photo.jpg",
      "userId": "09752424162683127104"
     },
     "user_tz": 180
    },
    "id": "IU-EN7CJOF-p",
    "outputId": "8e0d101f-bf39-48c3-81f6-a0769cc01dc9"
   },
   "outputs": [],
   "source": [
    "## Números\n",
    "\n",
    "meuint = 7\n",
    "print(meuint)"
   ]
  },
  {
   "cell_type": "code",
   "execution_count": null,
   "metadata": {
    "colab": {
     "base_uri": "https://localhost:8080/",
     "height": 52
    },
    "colab_type": "code",
    "executionInfo": {
     "elapsed": 701,
     "status": "ok",
     "timestamp": 1558185989634,
     "user": {
      "displayName": "Juliana Neves",
      "photoUrl": "https://lh5.googleusercontent.com/-8tAstheGj8I/AAAAAAAAAAI/AAAAAAAAzyY/-HJ0sDR0-1E/s64/photo.jpg",
      "userId": "09752424162683127104"
     },
     "user_tz": 180
    },
    "id": "OE-OCjx3OF-x",
    "outputId": "2beff809-a2eb-4da8-89cf-95962fff65c9"
   },
   "outputs": [],
   "source": [
    "meufloat = 7.0\n",
    "print(meufloat)\n",
    "\n",
    "# Podemos também converter inteiros para float\n",
    "meufloat2 = float(9)\n",
    "print(meufloat2)"
   ]
  },
  {
   "cell_type": "code",
   "execution_count": null,
   "metadata": {
    "colab": {
     "base_uri": "https://localhost:8080/",
     "height": 52
    },
    "colab_type": "code",
    "executionInfo": {
     "elapsed": 646,
     "status": "ok",
     "timestamp": 1558186020483,
     "user": {
      "displayName": "Juliana Neves",
      "photoUrl": "https://lh5.googleusercontent.com/-8tAstheGj8I/AAAAAAAAAAI/AAAAAAAAzyY/-HJ0sDR0-1E/s64/photo.jpg",
      "userId": "09752424162683127104"
     },
     "user_tz": 180
    },
    "id": "-Twjf4v7OF-2",
    "outputId": "1e964c71-0f99-43c3-c9f2-3aa1a629edf5"
   },
   "outputs": [],
   "source": [
    "## Strings\n",
    "\n",
    "# Podemos usar tanto aspas simples quanto aspas duplas\n",
    "minhastring = 'ao infinito e alem'\n",
    "print(minhastring)\n",
    "\n",
    "minhastring2 = \"ao infinito e alem\"\n",
    "print(minhastring2)"
   ]
  },
  {
   "cell_type": "code",
   "execution_count": null,
   "metadata": {
    "colab": {
     "base_uri": "https://localhost:8080/",
     "height": 70
    },
    "colab_type": "code",
    "executionInfo": {
     "elapsed": 900,
     "status": "ok",
     "timestamp": 1558186033227,
     "user": {
      "displayName": "Juliana Neves",
      "photoUrl": "https://lh5.googleusercontent.com/-8tAstheGj8I/AAAAAAAAAAI/AAAAAAAAzyY/-HJ0sDR0-1E/s64/photo.jpg",
      "userId": "09752424162683127104"
     },
     "user_tz": 180
    },
    "id": "9IBt_O39OF-6",
    "outputId": "cbd18949-2f58-4106-9a93-d64429f9f9d6"
   },
   "outputs": [],
   "source": [
    "# Podemos somar numeros...\n",
    "valorA = 1\n",
    "valorB = 2\n",
    "valorC = valorA + valorB\n",
    "print(\"Resultado: {}\\n\".format(valorC))\n",
    "\n",
    "# e concatenar strings\n",
    "tema = \"Intro NLP\"\n",
    "data = \"28/03/2020\"\n",
    "curso = \"Curso de \" + tema + \" em \" + data\n",
    "print(curso)"
   ]
  },
  {
   "cell_type": "code",
   "execution_count": null,
   "metadata": {
    "colab": {
     "base_uri": "https://localhost:8080/",
     "height": 52
    },
    "colab_type": "code",
    "executionInfo": {
     "elapsed": 758,
     "status": "ok",
     "timestamp": 1558186176100,
     "user": {
      "displayName": "Juliana Neves",
      "photoUrl": "https://lh5.googleusercontent.com/-8tAstheGj8I/AAAAAAAAAAI/AAAAAAAAzyY/-HJ0sDR0-1E/s64/photo.jpg",
      "userId": "09752424162683127104"
     },
     "user_tz": 180
    },
    "id": "HE7qZ109OF--",
    "outputId": "6298a21e-2e03-4761-df0c-ba36f8f2c424"
   },
   "outputs": [],
   "source": [
    "# Acessando Valores em Strings\n",
    "\n",
    "var1 = 'AI Girls'\n",
    "var2 = \"Ciência de Dados\"\n",
    "\n",
    "print(\"var1[0]: \", var1[1])\n",
    "print(\"var2[1:5]: \", var2[1:5])"
   ]
  },
  {
   "cell_type": "markdown",
   "metadata": {
    "colab_type": "text",
    "id": "ketZVHHaOF_B"
   },
   "source": [
    "# Listas\n",
    "\n",
    "Uma lista no Python armazena valores separados por vírgulas. No nosso caso, esses valores serão strings e possíveis números."
   ]
  },
  {
   "cell_type": "code",
   "execution_count": null,
   "metadata": {
    "colab": {},
    "colab_type": "code",
    "id": "NlhqjSAFOF_C"
   },
   "outputs": [],
   "source": [
    "minhalista = [\"a\",\"b\",\"c\"]"
   ]
  },
  {
   "cell_type": "code",
   "execution_count": null,
   "metadata": {
    "colab": {
     "base_uri": "https://localhost:8080/",
     "height": 35
    },
    "colab_type": "code",
    "executionInfo": {
     "elapsed": 717,
     "status": "ok",
     "timestamp": 1558186241132,
     "user": {
      "displayName": "Juliana Neves",
      "photoUrl": "https://lh5.googleusercontent.com/-8tAstheGj8I/AAAAAAAAAAI/AAAAAAAAzyY/-HJ0sDR0-1E/s64/photo.jpg",
      "userId": "09752424162683127104"
     },
     "user_tz": 180
    },
    "id": "y8wheLAhOF_E",
    "outputId": "02775bbc-d4d0-4711-98ce-1527d232b145"
   },
   "outputs": [],
   "source": [
    "minhalista"
   ]
  },
  {
   "cell_type": "code",
   "execution_count": null,
   "metadata": {
    "colab": {
     "base_uri": "https://localhost:8080/",
     "height": 35
    },
    "colab_type": "code",
    "executionInfo": {
     "elapsed": 710,
     "status": "ok",
     "timestamp": 1558186247809,
     "user": {
      "displayName": "Juliana Neves",
      "photoUrl": "https://lh5.googleusercontent.com/-8tAstheGj8I/AAAAAAAAAAI/AAAAAAAAzyY/-HJ0sDR0-1E/s64/photo.jpg",
      "userId": "09752424162683127104"
     },
     "user_tz": 180
    },
    "id": "m6xDAmH1OF_K",
    "outputId": "8dd759cd-7032-4db2-9b80-4ede124aa81a"
   },
   "outputs": [],
   "source": [
    "minhalista2 = [1,2,3,4,5]\n",
    "minhalista2"
   ]
  },
  {
   "cell_type": "markdown",
   "metadata": {
    "colab_type": "text",
    "id": "3jaqHx7jOF_N"
   },
   "source": [
    "Cada item da lista possui um índice (ou posição). \n",
    "\n",
    "Usando um índice de lista, você pode recuperar o item individual.\n",
    "\n",
    "<b>Atenção:</b> Em Python os índices começam em 0!"
   ]
  },
  {
   "cell_type": "code",
   "execution_count": null,
   "metadata": {
    "colab": {
     "base_uri": "https://localhost:8080/",
     "height": 35
    },
    "colab_type": "code",
    "executionInfo": {
     "elapsed": 634,
     "status": "ok",
     "timestamp": 1558186258860,
     "user": {
      "displayName": "Juliana Neves",
      "photoUrl": "https://lh5.googleusercontent.com/-8tAstheGj8I/AAAAAAAAAAI/AAAAAAAAzyY/-HJ0sDR0-1E/s64/photo.jpg",
      "userId": "09752424162683127104"
     },
     "user_tz": 180
    },
    "id": "WJKyJ6KHOF_O",
    "outputId": "e7579aaf-109d-4d63-94e8-b295646c20ea"
   },
   "outputs": [],
   "source": [
    "minhalista[0]"
   ]
  },
  {
   "cell_type": "code",
   "execution_count": null,
   "metadata": {
    "colab": {
     "base_uri": "https://localhost:8080/",
     "height": 35
    },
    "colab_type": "code",
    "executionInfo": {
     "elapsed": 878,
     "status": "ok",
     "timestamp": 1558186269185,
     "user": {
      "displayName": "Juliana Neves",
      "photoUrl": "https://lh5.googleusercontent.com/-8tAstheGj8I/AAAAAAAAAAI/AAAAAAAAzyY/-HJ0sDR0-1E/s64/photo.jpg",
      "userId": "09752424162683127104"
     },
     "user_tz": 180
    },
    "id": "mfG2bUUbOF_S",
    "outputId": "26b4fd6c-f344-49e9-803a-6bf6fee8388b"
   },
   "outputs": [],
   "source": [
    "minhalista2[0]"
   ]
  },
  {
   "cell_type": "markdown",
   "metadata": {
    "colab_type": "text",
    "id": "2AfpmXIpOF_X"
   },
   "source": [
    "Também podemos usar um intervalo de índices para chamar um intervalo da lista."
   ]
  },
  {
   "cell_type": "code",
   "execution_count": null,
   "metadata": {
    "colab": {
     "base_uri": "https://localhost:8080/",
     "height": 35
    },
    "colab_type": "code",
    "executionInfo": {
     "elapsed": 609,
     "status": "ok",
     "timestamp": 1558186283326,
     "user": {
      "displayName": "Juliana Neves",
      "photoUrl": "https://lh5.googleusercontent.com/-8tAstheGj8I/AAAAAAAAAAI/AAAAAAAAzyY/-HJ0sDR0-1E/s64/photo.jpg",
      "userId": "09752424162683127104"
     },
     "user_tz": 180
    },
    "id": "AQ63UV3AOF_a",
    "outputId": "35ddf423-499c-4d31-e600-c2c2ccd9be56"
   },
   "outputs": [],
   "source": [
    "# o intervalo [0:2] pode ser lido como: de 0 até 2 (ou do primeiro ate o 2)\n",
    "minhalista2[0:2]"
   ]
  },
  {
   "cell_type": "markdown",
   "metadata": {
    "colab_type": "text",
    "id": "QLhJGoaZOF_h"
   },
   "source": [
    "O primeiro número nos diz onde começar, enquanto o segundo nos diz onde terminar e é exclusivo.\n",
    "\n",
    "Se não inserirmos o primeiro número, receberemos os primeiros x itens, onde x é o segundo número de índice que fornecemos."
   ]
  },
  {
   "cell_type": "code",
   "execution_count": null,
   "metadata": {
    "colab": {
     "base_uri": "https://localhost:8080/",
     "height": 35
    },
    "colab_type": "code",
    "executionInfo": {
     "elapsed": 689,
     "status": "ok",
     "timestamp": 1558186307912,
     "user": {
      "displayName": "Juliana Neves",
      "photoUrl": "https://lh5.googleusercontent.com/-8tAstheGj8I/AAAAAAAAAAI/AAAAAAAAzyY/-HJ0sDR0-1E/s64/photo.jpg",
      "userId": "09752424162683127104"
     },
     "user_tz": 180
    },
    "id": "X0zKzYurOF_i",
    "outputId": "892fdbec-8d4c-40b4-cf1a-5d9cb26a9cdb"
   },
   "outputs": [],
   "source": [
    "minhalista[:2]"
   ]
  },
  {
   "cell_type": "code",
   "execution_count": null,
   "metadata": {
    "colab": {},
    "colab_type": "code",
    "id": "LH0G6EImOF_m"
   },
   "outputs": [],
   "source": [
    "minhalista2[:3]"
   ]
  },
  {
   "cell_type": "code",
   "execution_count": null,
   "metadata": {
    "colab": {
     "base_uri": "https://localhost:8080/",
     "height": 35
    },
    "colab_type": "code",
    "executionInfo": {
     "elapsed": 681,
     "status": "ok",
     "timestamp": 1558186317221,
     "user": {
      "displayName": "Juliana Neves",
      "photoUrl": "https://lh5.googleusercontent.com/-8tAstheGj8I/AAAAAAAAAAI/AAAAAAAAzyY/-HJ0sDR0-1E/s64/photo.jpg",
      "userId": "09752424162683127104"
     },
     "user_tz": 180
    },
    "id": "Tl64gDiOOF_q",
    "outputId": "b56231f5-94d7-4c16-c9cb-1ee50030af60"
   },
   "outputs": [],
   "source": [
    "minhalista2[-2:] # Retorna os ultimos 2 numeros"
   ]
  },
  {
   "cell_type": "code",
   "execution_count": null,
   "metadata": {
    "colab": {},
    "colab_type": "code",
    "id": "51H3LnJ7OF_s"
   },
   "outputs": [],
   "source": [
    "# Exercicio\n",
    "# Crie uma lista com 10 números e adicione somente somente os 2 ultimos a uma nova lista\n"
   ]
  },
  {
   "cell_type": "markdown",
   "metadata": {
    "colab_type": "text",
    "id": "erEs8cRnOF_u"
   },
   "source": [
    "# Expressão Regular - Regex\n",
    "\n",
    "Expressões regulares são usadas para identificar se um padrão existe em uma determinada seqüência de caracteres (string) ou não.\n",
    "\n",
    "Para visualizar o que o modeulo re está executando, tente utilizar o https://regex101.com/ ou https://regexr.com/\n"
   ]
  },
  {
   "cell_type": "markdown",
   "metadata": {
    "colab_type": "text",
    "id": "9Rb7t9qiOF_u"
   },
   "source": [
    "### O módulo re oferece um conjunto de funções que nos permite pesquisar uma string por uma correspondência:"
   ]
  },
  {
   "cell_type": "code",
   "execution_count": null,
   "metadata": {
    "colab": {},
    "colab_type": "code",
    "id": "agO1HaEEOF_v"
   },
   "outputs": [],
   "source": [
    "# import da função re — Regular expression operations \n",
    "import re"
   ]
  },
  {
   "cell_type": "markdown",
   "metadata": {
    "colab_type": "text",
    "id": "h0WHFw3NOF_x"
   },
   "source": [
    "Eles ajudam na manipulação de dados textuais, o que geralmente é um pré-requisito para projetos de ciência de dados que envolvem mineração de texto ou NLP. Existem algumas funções que nos auxiliam no tratamento dos dados, sendo elas:"
   ]
  },
  {
   "cell_type": "markdown",
   "metadata": {
    "colab_type": "text",
    "id": "AqzaV48oOF_x"
   },
   "source": [
    "### A função findall retorna uma lista que contém todos os matches."
   ]
  },
  {
   "cell_type": "code",
   "execution_count": null,
   "metadata": {
    "colab": {
     "base_uri": "https://localhost:8080/",
     "height": 35
    },
    "colab_type": "code",
    "executionInfo": {
     "elapsed": 685,
     "status": "ok",
     "timestamp": 1558187384981,
     "user": {
      "displayName": "Juliana Neves",
      "photoUrl": "https://lh5.googleusercontent.com/-8tAstheGj8I/AAAAAAAAAAI/AAAAAAAAzyY/-HJ0sDR0-1E/s64/photo.jpg",
      "userId": "09752424162683127104"
     },
     "user_tz": 180
    },
    "id": "dr-pG-wWOF_y",
    "outputId": "314585ab-b17c-4e8e-f06f-ca5c1ce71143"
   },
   "outputs": [],
   "source": [
    "texto = \"AI Girls é uma comunidade feminina de tecnologia\"\n",
    "x = re.findall(\"Girls\", texto)\n",
    "print(x)"
   ]
  },
  {
   "cell_type": "code",
   "execution_count": null,
   "metadata": {},
   "outputs": [],
   "source": [
    "# e se tentarmos encontrar outra palavra que não existe no texto?\n",
    "z = re.findall(\"ciencia de dados\", texto)\n",
    "print(z)"
   ]
  },
  {
   "cell_type": "markdown",
   "metadata": {
    "colab_type": "text",
    "id": "lgqB4YxWOF_1"
   },
   "source": [
    "Agora vamos aplicar em uma condição:"
   ]
  },
  {
   "cell_type": "code",
   "execution_count": null,
   "metadata": {
    "colab": {
     "base_uri": "https://localhost:8080/",
     "height": 35
    },
    "colab_type": "code",
    "executionInfo": {
     "elapsed": 587,
     "status": "ok",
     "timestamp": 1558187541550,
     "user": {
      "displayName": "Juliana Neves",
      "photoUrl": "https://lh5.googleusercontent.com/-8tAstheGj8I/AAAAAAAAAAI/AAAAAAAAzyY/-HJ0sDR0-1E/s64/photo.jpg",
      "userId": "09752424162683127104"
     },
     "user_tz": 180
    },
    "id": "FIofMvX7OF_2",
    "outputId": "7d809402-e544-4eaf-844c-17b9e56547eb"
   },
   "outputs": [],
   "source": [
    "padrao = r\"Cookies\"\n",
    "sequencia = \"Queria uns Cookies\"\n",
    "\n",
    "if re.findall(padrao, sequencia):\n",
    "    print(\"Encontrou!\")\n",
    "else: \n",
    "    print(\"Nao Encontrou :(\")"
   ]
  },
  {
   "cell_type": "markdown",
   "metadata": {
    "colab_type": "text",
    "id": "N6Xi5smROF_4"
   },
   "source": [
    "Parabéns ele encontrou a palavra Cookie!\n",
    "\n",
    "Se colocarmos ela em minusculo, será que também irá encontrar?\n",
    "\n",
    "Faça o teste e explique o por que funciona ou não."
   ]
  },
  {
   "cell_type": "code",
   "execution_count": null,
   "metadata": {
    "colab": {},
    "colab_type": "code",
    "id": "9zr2jhEZOF_5"
   },
   "outputs": [],
   "source": [
    "# Seu teste aqui:\n",
    "\n",
    "# Quais soluçoes podemos usar para corrigir esse problema?"
   ]
  },
  {
   "cell_type": "markdown",
   "metadata": {
    "colab_type": "text",
    "id": "w__gnaUqOF_-"
   },
   "source": [
    "### A função search retorna um objeto se houver uma correspondência em qualquer lugar da string."
   ]
  },
  {
   "cell_type": "code",
   "execution_count": null,
   "metadata": {
    "colab": {},
    "colab_type": "code",
    "id": "bEa9f-2dOF__",
    "outputId": "892476a5-5546-48f8-95bb-256989e1a3a9"
   },
   "outputs": [],
   "source": [
    "texto = \"AI Girls é uma comunidade feminina de tecnologia\"\n",
    "\n",
    "# \"\\s\" encontra espaços em branco\n",
    "x = re.search(\"\\s\", texto)\n",
    "\n",
    "print(\"O primeiro caracter com espaço em branco está na posição:\", x.start())"
   ]
  },
  {
   "cell_type": "markdown",
   "metadata": {
    "colab_type": "text",
    "id": "eHXg16qsOGAD"
   },
   "source": [
    "Um ponto (.) corresponde a qualquer caractere único - A função group () retorna a string encontrada pelo re"
   ]
  },
  {
   "cell_type": "code",
   "execution_count": null,
   "metadata": {
    "colab": {
     "base_uri": "https://localhost:8080/",
     "height": 35
    },
    "colab_type": "code",
    "executionInfo": {
     "elapsed": 649,
     "status": "ok",
     "timestamp": 1558188310570,
     "user": {
      "displayName": "Juliana Neves",
      "photoUrl": "https://lh5.googleusercontent.com/-8tAstheGj8I/AAAAAAAAAAI/AAAAAAAAzyY/-HJ0sDR0-1E/s64/photo.jpg",
      "userId": "09752424162683127104"
     },
     "user_tz": 180
    },
    "id": "NHmGAxdNOGAD",
    "outputId": "bdacbe47-0348-4d96-a8a5-280f3ba7ad99"
   },
   "outputs": [],
   "source": [
    "re.search(r'[cC]o.k.e', 'cookie').group()\n"
   ]
  },
  {
   "cell_type": "markdown",
   "metadata": {
    "colab_type": "text",
    "id": "3Op8Dn_OOGAH"
   },
   "source": [
    "Usando o padrão \\w - Corresponde a qualquer letra minúsculas (\\w)."
   ]
  },
  {
   "cell_type": "code",
   "execution_count": null,
   "metadata": {
    "colab": {
     "base_uri": "https://localhost:8080/",
     "height": 167
    },
    "colab_type": "code",
    "executionInfo": {
     "elapsed": 591,
     "status": "error",
     "timestamp": 1558188364581,
     "user": {
      "displayName": "Juliana Neves",
      "photoUrl": "https://lh5.googleusercontent.com/-8tAstheGj8I/AAAAAAAAAAI/AAAAAAAAzyY/-HJ0sDR0-1E/s64/photo.jpg",
      "userId": "09752424162683127104"
     },
     "user_tz": 180
    },
    "id": "fWZacfEcOGAI",
    "outputId": "f28dff12-08e7-48e0-e511-5e414266f131"
   },
   "outputs": [],
   "source": [
    "re.search(r'Co\\wk\\we', 'Cookie').group()\n"
   ]
  },
  {
   "cell_type": "markdown",
   "metadata": {
    "colab_type": "text",
    "id": "z0uM_dy6OGAT"
   },
   "source": [
    "Usando o padrão \\W (w maiúsculo) - Corresponde a qualquer caractere que não seja parte de \\w (w maísculo)."
   ]
  },
  {
   "cell_type": "code",
   "execution_count": null,
   "metadata": {
    "colab": {},
    "colab_type": "code",
    "id": "tFs8UPDsOGAU",
    "outputId": "74280f52-2800-45e6-bb80-9760ada1f326"
   },
   "outputs": [],
   "source": [
    "\n",
    "re.search(r'C\\Wke', 'C@ke').group()"
   ]
  },
  {
   "cell_type": "markdown",
   "metadata": {
    "colab_type": "text",
    "id": "LH0WSDbUOGAX"
   },
   "source": [
    "A função span () retorna uma tupla contendo as posições inicial e final da correspondência."
   ]
  },
  {
   "cell_type": "code",
   "execution_count": null,
   "metadata": {
    "colab": {},
    "colab_type": "code",
    "id": "cnGbxXUZOGAX",
    "outputId": "ed2d88be-f93e-4eaa-bba9-9b94ea526667"
   },
   "outputs": [],
   "source": [
    "texto = \"AI Girls é uma comunidade feminina de tecnologia\"\n",
    "x = re.search(r\"\\bG\\w+\", texto) #procura pelo G\n",
    "print(x.span())"
   ]
  },
  {
   "cell_type": "markdown",
   "metadata": {
    "colab_type": "text",
    "id": "4KA1uHBqOGAb"
   },
   "source": [
    "A função split () retorna uma lista onde a string foi dividida em cada match:"
   ]
  },
  {
   "cell_type": "code",
   "execution_count": null,
   "metadata": {
    "colab": {
     "base_uri": "https://localhost:8080/",
     "height": 35
    },
    "colab_type": "code",
    "executionInfo": {
     "elapsed": 706,
     "status": "ok",
     "timestamp": 1558188660384,
     "user": {
      "displayName": "Juliana Neves",
      "photoUrl": "https://lh5.googleusercontent.com/-8tAstheGj8I/AAAAAAAAAAI/AAAAAAAAzyY/-HJ0sDR0-1E/s64/photo.jpg",
      "userId": "09752424162683127104"
     },
     "user_tz": 180
    },
    "id": "LiixmOE1OGAb",
    "outputId": "b184ba16-cd75-4e2e-e1f8-83432e8409e4"
   },
   "outputs": [],
   "source": [
    "texto = \"AI Girls é uma comunidade feminina de tecnologia\"\n",
    "x = re.split(\"\\s\", texto) #quebra pelo espaço\n",
    "print(x)"
   ]
  },
  {
   "cell_type": "markdown",
   "metadata": {
    "colab_type": "text",
    "id": "1l7nklOxOGAd"
   },
   "source": [
    "Podemos determinar a quantidade máxima de split:"
   ]
  },
  {
   "cell_type": "code",
   "execution_count": null,
   "metadata": {
    "colab": {
     "base_uri": "https://localhost:8080/",
     "height": 35
    },
    "colab_type": "code",
    "executionInfo": {
     "elapsed": 602,
     "status": "ok",
     "timestamp": 1558188722668,
     "user": {
      "displayName": "Juliana Neves",
      "photoUrl": "https://lh5.googleusercontent.com/-8tAstheGj8I/AAAAAAAAAAI/AAAAAAAAzyY/-HJ0sDR0-1E/s64/photo.jpg",
      "userId": "09752424162683127104"
     },
     "user_tz": 180
    },
    "id": "sgwuBt81OGAf",
    "outputId": "dd6a30ff-eef2-4a59-b4c2-e054ba5dcd3c"
   },
   "outputs": [],
   "source": [
    "texto = \"AI Girls é uma comunidade feminina de tecnologia\"\n",
    "x = re.split(\"\\s\", texto, 2)\n",
    "print(x)"
   ]
  },
  {
   "cell_type": "markdown",
   "metadata": {
    "colab_type": "text",
    "id": "nJIrg3TtOGAg"
   },
   "source": [
    "A função sub () substituí uma ou mais match por uma determinada string:"
   ]
  },
  {
   "cell_type": "code",
   "execution_count": null,
   "metadata": {
    "colab": {},
    "colab_type": "code",
    "id": "Pt-8GWhjOGAh",
    "outputId": "44797104-f8f9-404f-95b4-b293c4a9338f"
   },
   "outputs": [],
   "source": [
    "texto = \"AI Girls é uma comunidade feminina de tecnologia\"\n",
    "x = re.sub(\"\\s\", \"X \", texto)\n",
    "print(x)"
   ]
  },
  {
   "cell_type": "markdown",
   "metadata": {
    "colab_type": "text",
    "id": "ut6fjFu0OGAj"
   },
   "source": [
    "Podemos usar para remover números de um texto:"
   ]
  },
  {
   "cell_type": "code",
   "execution_count": null,
   "metadata": {
    "colab": {
     "base_uri": "https://localhost:8080/",
     "height": 35
    },
    "colab_type": "code",
    "executionInfo": {
     "elapsed": 680,
     "status": "ok",
     "timestamp": 1558188808281,
     "user": {
      "displayName": "Juliana Neves",
      "photoUrl": "https://lh5.googleusercontent.com/-8tAstheGj8I/AAAAAAAAAAI/AAAAAAAAzyY/-HJ0sDR0-1E/s64/photo.jpg",
      "userId": "09752424162683127104"
     },
     "user_tz": 180
    },
    "id": "WNSgxS8LOGAk",
    "outputId": "df51b5cd-1c87-4b3f-81c6-78c8a50bf2d9"
   },
   "outputs": [],
   "source": [
    "texto = 'Rua Faustina 1529'\n",
    "\n",
    "texto = re.sub('[-|0-8]',' ', texto)\n",
    "print(texto)\n"
   ]
  },
  {
   "cell_type": "markdown",
   "metadata": {
    "colab_type": "text",
    "id": "A9JwzUbLOGAo"
   },
   "source": [
    "# List comprehension\n"
   ]
  },
  {
   "cell_type": "markdown",
   "metadata": {
    "colab_type": "text",
    "id": "BVU_TzjdOGAp"
   },
   "source": [
    "É uma estrutura importantíssima para se trabalhar com grandes conjuntos de dados, tendo uma performace superior a outras estruturas em python e simplifica a escrita do código."
   ]
  },
  {
   "cell_type": "code",
   "execution_count": null,
   "metadata": {
    "colab": {
     "base_uri": "https://localhost:8080/",
     "height": 35
    },
    "colab_type": "code",
    "executionInfo": {
     "elapsed": 691,
     "status": "ok",
     "timestamp": 1558188955827,
     "user": {
      "displayName": "Juliana Neves",
      "photoUrl": "https://lh5.googleusercontent.com/-8tAstheGj8I/AAAAAAAAAAI/AAAAAAAAzyY/-HJ0sDR0-1E/s64/photo.jpg",
      "userId": "09752424162683127104"
     },
     "user_tz": 180
    },
    "id": "bfWDNZmWOGAq",
    "outputId": "c8b73651-0980-4be6-e327-c271a768812a"
   },
   "outputs": [],
   "source": [
    "# Retorna cada caracter em uma sequência de caracteres\n",
    "\n",
    "lst = [x for x in 'AiGirls']\n",
    "lst"
   ]
  },
  {
   "cell_type": "markdown",
   "metadata": {
    "colab_type": "text",
    "id": "YELQbB5pOGAu"
   },
   "source": [
    "A leitura da List Comprehension acime é basicamente a seguinte:\n",
    "\n",
    "Para cada caracter (x) em PyLadies, retorne o item (x)"
   ]
  },
  {
   "cell_type": "code",
   "execution_count": null,
   "metadata": {
    "colab": {},
    "colab_type": "code",
    "id": "W9V9MBT4OGAv",
    "outputId": "48d70126-a9a8-4def-a188-3bd5fe2ef663"
   },
   "outputs": [],
   "source": [
    "# Vamos confirmar se realmente é uma lista\n",
    "\n",
    "type(lst)"
   ]
  },
  {
   "cell_type": "code",
   "execution_count": null,
   "metadata": {
    "colab": {},
    "colab_type": "code",
    "id": "NWPd0AGROGAy",
    "outputId": "a4798b65-61eb-4f3f-d5eb-a733d9b749a3"
   },
   "outputs": [],
   "source": [
    "# Raiz quadrada de um range de números\n",
    "\n",
    "raiz = [x**2 for x in range(0,6)]\n",
    "raiz"
   ]
  },
  {
   "cell_type": "code",
   "execution_count": null,
   "metadata": {
    "colab": {},
    "colab_type": "code",
    "id": "PFQhXyF7OGA6",
    "outputId": "22c5444e-9a56-4676-fbf9-68674d6890be"
   },
   "outputs": [],
   "source": [
    "# Verificando se é um número par \n",
    "\n",
    "par = [x for x in range(13) if x % 2 == 0]\n",
    "par\n"
   ]
  },
  {
   "cell_type": "code",
   "execution_count": null,
   "metadata": {
    "colab": {
     "base_uri": "https://localhost:8080/",
     "height": 35
    },
    "colab_type": "code",
    "executionInfo": {
     "elapsed": 718,
     "status": "ok",
     "timestamp": 1558189396584,
     "user": {
      "displayName": "Juliana Neves",
      "photoUrl": "https://lh5.googleusercontent.com/-8tAstheGj8I/AAAAAAAAAAI/AAAAAAAAzyY/-HJ0sDR0-1E/s64/photo.jpg",
      "userId": "09752424162683127104"
     },
     "user_tz": 180
    },
    "id": "4ncitTa0OGA_",
    "outputId": "4d66d4b3-fc93-489f-8fd6-a6e8685cae4d"
   },
   "outputs": [],
   "source": [
    "# Operações aninhadas, ou seja, podemos por uma list comprehensions dentro da outra\n",
    "\n",
    "raiz = [x + 2 for x in [x**2 for x in range(6)]]\n",
    "raiz"
   ]
  },
  {
   "cell_type": "markdown",
   "metadata": {
    "colab": {},
    "colab_type": "code",
    "id": "wC5vFeqWUyy-"
   },
   "source": [
    "# Pandas Dataframe\n"
   ]
  },
  {
   "cell_type": "markdown",
   "metadata": {},
   "source": [
    "É uma das estruturas mais importantes e mais utilizadas pela comunidade Python voltada para Ciencia de Dados e IA."
   ]
  },
  {
   "cell_type": "code",
   "execution_count": null,
   "metadata": {},
   "outputs": [],
   "source": [
    "# importando a biblioteca\n",
    "import pandas as pd"
   ]
  },
  {
   "cell_type": "markdown",
   "metadata": {},
   "source": [
    "### Series\n",
    "\n",
    "Uma lista de valores ou um array unidimensional, uma coluna em uma planilha excel.\n",
    "\n",
    "Toda Series possui um índice (index).\n",
    "\n",
    "Repare que temos o index a direita e o valor a esquerda"
   ]
  },
  {
   "cell_type": "code",
   "execution_count": null,
   "metadata": {},
   "outputs": [],
   "source": [
    "minhaSeries = pd.Series([1,2,3,4,5,6,7,8,9,10])\n",
    "minhaSeries"
   ]
  },
  {
   "cell_type": "code",
   "execution_count": null,
   "metadata": {},
   "outputs": [],
   "source": [
    "#vendo somente os valores da serie\n",
    "minhaSeries.values"
   ]
  },
  {
   "cell_type": "code",
   "execution_count": null,
   "metadata": {},
   "outputs": [],
   "source": [
    "# podemos fazer calculos utilizando series\n",
    "print(\"Média:\", minhaSeries.mean())\n",
    "print(\"Desvio padrão:\", minhaSeries.std())"
   ]
  },
  {
   "cell_type": "markdown",
   "metadata": {},
   "source": [
    "### DataFrame\n",
    "\n",
    "Uma estrutura bidimensional de dados, igual uma planilha.\n",
    "\n",
    "Possui valores de diferentes tipos."
   ]
  },
  {
   "cell_type": "code",
   "execution_count": null,
   "metadata": {},
   "outputs": [],
   "source": [
    "# criando nosso Pandas dataframe utilizando  um dicionario \n",
    "Filmes_Oscar = pd.DataFrame({'Filmes' : ['Ford vs Ferrari', \n",
    "                                         'O Irlandês', \n",
    "                                         'JoJo Rabbit', \n",
    "                                         'Coringa', \n",
    "                                         'Adoráveis Mulheres',\n",
    "                                         'História de um Casamento',\n",
    "                                         '1917', \n",
    "                                         'Era Uma Vez Em... Hollywood',\n",
    "                                         'Parasita'],\n",
    "                               'Visualizacoes' : [5,4,2,9,4,8,3,6, 8]})\n",
    "Filmes_Oscar"
   ]
  },
  {
   "cell_type": "markdown",
   "metadata": {},
   "source": [
    "podemos acessar a lista de colunas de forma bem simples"
   ]
  },
  {
   "cell_type": "code",
   "execution_count": null,
   "metadata": {},
   "outputs": [],
   "source": [
    "Filmes_Oscar.columns"
   ]
  },
  {
   "cell_type": "markdown",
   "metadata": {},
   "source": [
    "Os nomes das colunas podem ser utilizadas para acessa os valores"
   ]
  },
  {
   "cell_type": "code",
   "execution_count": null,
   "metadata": {},
   "outputs": [],
   "source": [
    "Filmes_Oscar['Filmes']"
   ]
  },
  {
   "cell_type": "markdown",
   "metadata": {},
   "source": [
    "podemos utlizar o conceito de indice que vimos anteriormente para filtrar valores"
   ]
  },
  {
   "cell_type": "code",
   "execution_count": null,
   "metadata": {},
   "outputs": [],
   "source": [
    "# podemos ver esse trecho de codigo da seguinte forma:\n",
    "# do dataframe 'Filmes_Oscar', filtre onde a coluna 'Filmes' tiver o valor 'Parasita'\n",
    "\n",
    "Filmes_Oscar[Filmes_Oscar['Filmes'] == 'Parasita']"
   ]
  },
  {
   "cell_type": "markdown",
   "metadata": {},
   "source": [
    "podemos utlizar indices para fazer o mesmo filtro acima"
   ]
  },
  {
   "cell_type": "code",
   "execution_count": null,
   "metadata": {},
   "outputs": [],
   "source": [
    "Filmes_Oscar.loc[8]"
   ]
  },
  {
   "cell_type": "markdown",
   "metadata": {},
   "source": [
    "Caso seja necessario saber quais filmes tiveram mais do que 5 visualizacoes, como fariamos?"
   ]
  },
  {
   "cell_type": "code",
   "execution_count": null,
   "metadata": {},
   "outputs": [],
   "source": [
    "Filmes_Oscar[Filmes_Oscar[\"Visualizacoes\"] > 5]"
   ]
  },
  {
   "cell_type": "markdown",
   "metadata": {},
   "source": [
    "outra coisa legal é ordenar as informaçoes, vamos ordar pelo filme com mais visualizações"
   ]
  },
  {
   "cell_type": "code",
   "execution_count": null,
   "metadata": {},
   "outputs": [],
   "source": [
    "# ascending=False significa do maior para o menor\n",
    "Filmes_Oscar.sort_values(by=\"Visualizacoes\", ascending=False)"
   ]
  },
  {
   "cell_type": "code",
   "execution_count": null,
   "metadata": {},
   "outputs": [],
   "source": []
  }
 ],
 "metadata": {
  "colab": {
   "name": "1-Relembrando-Python.ipynb",
   "provenance": [],
   "version": "0.3.2"
  },
  "kernelspec": {
   "display_name": "Python 3",
   "language": "python",
   "name": "python3"
  },
  "language_info": {
   "codemirror_mode": {
    "name": "ipython",
    "version": 3
   },
   "file_extension": ".py",
   "mimetype": "text/x-python",
   "name": "python",
   "nbconvert_exporter": "python",
   "pygments_lexer": "ipython3",
   "version": "3.6.4"
  }
 },
 "nbformat": 4,
 "nbformat_minor": 1
}
